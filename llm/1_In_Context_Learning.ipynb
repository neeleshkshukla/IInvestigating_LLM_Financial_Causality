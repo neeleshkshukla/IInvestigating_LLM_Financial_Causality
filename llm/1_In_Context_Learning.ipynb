{
 "cells": [
  {
   "cell_type": "code",
   "execution_count": 120,
   "id": "0118d314-3380-4191-a600-a6044cb30f43",
   "metadata": {},
   "outputs": [],
   "source": [
    "from langchain.output_parsers import StructuredOutputParser, ResponseSchema\n",
    "from langchain.prompts import PromptTemplate, ChatPromptTemplate, HumanMessagePromptTemplate\n",
    "from langchain.llms import OpenAI\n",
    "from langchain.chat_models import AzureChatOpenAI\n",
    "\n",
    "import os\n",
    "import pandas as pd"
   ]
  },
  {
   "cell_type": "code",
   "execution_count": 121,
   "id": "fd706d73-c423-4649-814f-cc70e9dba5c5",
   "metadata": {},
   "outputs": [],
   "source": [
    "USE_GPT_3_5_TURBO = False\n",
    "USE_GPT_4 = True\n",
    "USE_ZERO_SHOT = False\n",
    "USE_FEW_SHOT = True\n",
    "NUM_FEW_SHOT_EXAMPLES = 15\n",
    "SAMPLE_EXAMPLES = False\n",
    "\n",
    "DATASET_PATH = '../../../FinCausal/dataset/'\n",
    "OUTPUT_DIR = '../../../FinCausal/output/llm/OpenAI'\n",
    "PRACTICE_SPANISH_DIR = 'practice_spanish'\n",
    "PRACTICE_ENGLISH_DIR = 'practice-english'\n",
    "TRAIN_SPANISH_DIR = 'training_spanish'\n",
    "TRAIN_ENGLISH_DIR = 'training-english'\n",
    "IS_PRACTICE = True\n",
    "IS_TRAINING= False\n",
    "IS_ENGLISH = True\n",
    "IS_SPANISH = False"
   ]
  },
  {
   "cell_type": "code",
   "execution_count": 123,
   "id": "633da1f4-ddc1-44b6-8c1d-8ec0c6f92082",
   "metadata": {},
   "outputs": [],
   "source": [
    "if USE_GPT_4:\n",
    "    model = AzureChatOpenAI(temperature=0,deployment_name=\"\")\n",
    "elif USE_GPT_3_5_TURBO:\n",
    "    model = AzureChatOpenAI(temperature=0,deployment_name=\"\")\n",
    "else:\n",
    "    raise Exception('Model not supported.')"
   ]
  },
  {
   "cell_type": "code",
   "execution_count": 124,
   "id": "d6641179-b5e9-41b6-a5a1-71ab1a5cf150",
   "metadata": {},
   "outputs": [
    {
     "data": {
      "text/plain": [
       "StructuredOutputParser(response_schemas=[ResponseSchema(name='cause', description='extract cause from the user given text', type='string'), ResponseSchema(name='effect', description='extract effect from the user given text', type='string')])"
      ]
     },
     "execution_count": 124,
     "metadata": {},
     "output_type": "execute_result"
    }
   ],
   "source": [
    "response_schemas = [\n",
    "    ResponseSchema(name=\"cause\", description=\"extract cause from the user given text\"),\n",
    "    ResponseSchema(name=\"effect\", description=\"extract effect from the user given text\")\n",
    "]\n",
    "output_parser = StructuredOutputParser.from_response_schemas(response_schemas)\n",
    "output_parser"
   ]
  },
  {
   "cell_type": "code",
   "execution_count": 125,
   "id": "47bd5838-11d7-46bd-8270-17d598aaccfe",
   "metadata": {},
   "outputs": [],
   "source": [
    "## zero shot prompt tempelate\n",
    "\n",
    "zero_shot_template = \"\"\"\n",
    "        The task is to extract the cause and effect from the given financial {text}. Don't provide anything except cause and effect.\n",
    "        \n",
    "        Instructions:\n",
    "        - Answer the question based only on the text provided. Extracted cause and effect should be part of given input financial text.\n",
    "        - Only one set of Cause and effect has to be given as output for each single input.\n",
    "        - Output language has to be the same as the input language.\n",
    "\n",
    "        {format_instructions}\n",
    "        \"\"\"\n"
   ]
  },
  {
   "cell_type": "code",
   "execution_count": 126,
   "id": "916947b1-02b6-4ad2-b136-a86793779a36",
   "metadata": {},
   "outputs": [],
   "source": [
    "### Few shot template\n",
    "\n",
    "few_shot_template = \"\"\"\n",
    "        The task is to extract the cause and effect from the given financial {text}. Don't provide anything except cause and effect. \n",
    "        \n",
    "        Here are few examples:\n",
    "\n",
    "        {few_shot_examples}\n",
    "        \n",
    "        \n",
    "        Instructions:\n",
    "        - Answer the question based only on the text provided. Extracted cause and effect should be part of given input financial text.\n",
    "        - Only one set of Cause and effect has to be given as output for each single input.\n",
    "        - Output language has to be the same as the input language.\n",
    "\n",
    "        {format_instructions}\n",
    "        \"\"\""
   ]
  },
  {
   "cell_type": "code",
   "execution_count": 127,
   "id": "67567637-6e46-4a0d-be4a-28a4be1163b7",
   "metadata": {},
   "outputs": [],
   "source": [
    "def get_few_shot_examples(training_csv_path, num_few_shot):\n",
    "    train_df = pd.read_csv(training_csv_path, delimiter = \";\", on_bad_lines = 'warn')\n",
    "    if SAMPLE_EXAMPLES:\n",
    "        train_df = train_df.sample(num_few_shot)\n",
    "    else:\n",
    "        train_df = train_df.head(num_few_shot)\n",
    "    \n",
    "    few_shot_example = ''\n",
    "    count = 1\n",
    "    for index, row in train_df.iterrows():\n",
    "        text = row['Text']\n",
    "        cause = row['Cause']\n",
    "        effect = row['Effect']\n",
    "        few_shot_example = few_shot_example + 'Example ' +str(count) + ':\\n' \n",
    "        few_shot_example = few_shot_example + 'Text: ' + text + '\\n'\n",
    "        few_shot_example = few_shot_example + 'cause: ' + cause + '\\n'\n",
    "        few_shot_example = few_shot_example + 'effect: ' + effect + '\\n\\n'\n",
    "        count = count + 1\n",
    "    return few_shot_example"
   ]
  },
  {
   "cell_type": "code",
   "execution_count": 128,
   "id": "99bbe4f7-6838-4c97-9852-978923589aa2",
   "metadata": {},
   "outputs": [],
   "source": [
    "def build_prompt():\n",
    "    format_instructions = output_parser.get_format_instructions()\n",
    "    if USE_ZERO_SHOT:\n",
    "        print('Zero shot setting')\n",
    "        prompt_template = zero_shot_template\n",
    "        input_vars = [\"text\"]\n",
    "    elif USE_FEW_SHOT:\n",
    "        print('Few shot setting')\n",
    "        prompt_template = few_shot_template\n",
    "        input_vars = [\"text\", \"few_shot_examples\"]\n",
    "    else:\n",
    "        raise Exception('Learning method not supported!')\n",
    "        \n",
    "        \n",
    "    prompt = ChatPromptTemplate(\n",
    "        messages=[\n",
    "            HumanMessagePromptTemplate.from_template(prompt_template)\n",
    "        ],\n",
    "        input_variables=input_vars,\n",
    "        partial_variables={\"format_instructions\": format_instructions}\n",
    "    )\n",
    "    return prompt"
   ]
  },
  {
   "cell_type": "code",
   "execution_count": 129,
   "id": "9e80324b-ca38-42e8-8c6d-452c5f1e76dc",
   "metadata": {},
   "outputs": [],
   "source": [
    "def get_cause_effect(text, prompt, few_shot_examples=''):\n",
    "    if USE_ZERO_SHOT:\n",
    "        _input = prompt.format_prompt(text=text)\n",
    "    elif USE_FEW_SHOT:\n",
    "        _input = prompt.format_prompt(text=text, few_shot_examples=few_shot_examples)\n",
    "    \n",
    "    output = model(_input.to_messages())\n",
    "    response = output_parser.parse(output.content)\n",
    "\n",
    "    return response"
   ]
  },
  {
   "cell_type": "code",
   "execution_count": null,
   "id": "f66478c3-961b-43b3-99d6-836fad37d8cd",
   "metadata": {},
   "outputs": [],
   "source": [
    "# Training Dataset \n",
    "if IS_TRAINING:\n",
    "    # Spanish dataset\n",
    "    if IS_SPANISH:\n",
    "        data_csv_path = os.path.join(DATASET_PATH, 'training_subtask_es.csv')\n",
    "        training_csv_path = os.path.join(DATASET_PATH, 'training_subtask_es.csv')\n",
    "        out_path = os.path.join(OUTPUT_DIR, TRAIN_SPANISH_DIR)\n",
    "        out_csv_name = 'training_subtask_results_es.csv'\n",
    "        \n",
    "    # English dataset\n",
    "    elif IS_ENGLISH:\n",
    "        data_csv_path = os.path.join(DATASET_PATH, 'training_subtask_en.csv')\n",
    "        training_csv_path = os.path.join(DATASET_PATH, 'training_subtask_en.csv')\n",
    "        out_path = os.path.join(OUTPUT_DIR, TRAIN_ENGLISH_DIR)\n",
    "        out_csv_name = 'training_subtask_results_en.csv'\n",
    "\n",
    "# Practice Dataset\n",
    "elif IS_PRACTICE:\n",
    "    # Spanish dataset\n",
    "    if IS_SPANISH:\n",
    "        data_csv_path = os.path.join(DATASET_PATH, PRACTICE_SPANISH_DIR, 'practice_subtask_es.csv')\n",
    "        training_csv_path = os.path.join(DATASET_PATH, 'training_subtask_es.csv')\n",
    "        out_path = os.path.join(OUTPUT_DIR, PRACTICE_SPANISH_DIR)\n",
    "        out_csv_name = 'practice_subtask_results_es.csv'\n",
    "    # English dataset\n",
    "    elif IS_ENGLISH:\n",
    "        data_csv_path = os.path.join(DATASET_PATH, PRACTICE_ENGLISH_DIR, 'practice_subtask_en.csv')\n",
    "        training_csv_path = os.path.join(DATASET_PATH, 'training_subtask_en.csv')\n",
    "        out_path = os.path.join(OUTPUT_DIR, PRACTICE_ENGLISH_DIR)\n",
    "        out_csv_name = 'practice_subtask_results_en.csv'\n",
    "    \n",
    "# df\n",
    "df = pd.read_csv(data_csv_path, delimiter = \";\", on_bad_lines = 'warn')\n",
    "print('dataframe shape: ',df.shape)\n",
    "df.head()"
   ]
  },
  {
   "cell_type": "code",
   "execution_count": 131,
   "id": "41c80627-6d2a-4e92-96ef-80c316d4c9ec",
   "metadata": {},
   "outputs": [
    {
     "name": "stdout",
     "output_type": "stream",
     "text": [
      "Few shot setting\n"
     ]
    }
   ],
   "source": [
    "prompt = build_prompt()\n",
    "\n",
    "if USE_FEW_SHOT:\n",
    "    few_shot_examples = get_few_shot_examples(training_csv_path, NUM_FEW_SHOT_EXAMPLES)\n"
   ]
  },
  {
   "cell_type": "code",
   "execution_count": null,
   "id": "39f9d3cd-82f9-4c59-9e99-2da0e03569e3",
   "metadata": {},
   "outputs": [],
   "source": [
    "cause_list = []\n",
    "effect_list = []\n",
    "index_list = []\n",
    "# default offset zero. Sometimes open ai stops sending the response\n",
    "offset = 0\n",
    "for i in range(len(df)):\n",
    "    print(f\"Processing Input {i+offset}\")\n",
    "    input_text = df['Text'][i+offset]\n",
    "    if USE_ZERO_SHOT:\n",
    "        response = get_cause_effect(input_text, prompt)\n",
    "    elif USE_FEW_SHOT:\n",
    "        response = get_cause_effect(input_text, prompt, few_shot_examples)\n",
    "        \n",
    "    cause_list.append(response['cause'])\n",
    "    effect_list.append(response['effect'])\n",
    "    index_list.append(df['Index'][i+offset]) "
   ]
  },
  {
   "cell_type": "code",
   "execution_count": null,
   "id": "97c3b43c-9e0e-4844-8dd9-c22c24467d94",
   "metadata": {},
   "outputs": [],
   "source": [
    "fincaual_df = pd.DataFrame(columns=['Index', 'Text', 'Cause', 'Effect'])\n",
    "fincaual_df['Index'] = index_list\n",
    "#fincaual_df['Text'] = df['Text'].values\n",
    "fincaual_df['Cause'] = cause_list\n",
    "fincaual_df['Effect'] = effect_list\n",
    "fincaual_df.head()"
   ]
  },
  {
   "cell_type": "code",
   "execution_count": 144,
   "id": "e262cd7f-bed3-46ac-9ec8-ef58665675ff",
   "metadata": {},
   "outputs": [],
   "source": [
    "if not os.path.exists(out_path):\n",
    "    os.makedirs(out_path)\n",
    "if USE_FEW_SHOT:\n",
    "    fincaual_df.to_csv(os.path.join(out_path, 'few_shot_'+str(NUM_FEW_SHOT_EXAMPLES)+'_'+out_csv_name), sep=';', escapechar='\"', index=False)\n",
    "elif USE_ZERO_SHOT:\n",
    "    fincaual_df.to_csv(os.path.join(out_path, 'zero_shot_'+str(0)+'_'+out_csv_name), sep=';', escapechar='\"', index=False)"
   ]
  }
 ],
 "metadata": {
  "kernelspec": {
   "display_name": "Python 3 (ipykernel)",
   "language": "python",
   "name": "python3"
  },
  "language_info": {
   "codemirror_mode": {
    "name": "ipython",
    "version": 3
   },
   "file_extension": ".py",
   "mimetype": "text/x-python",
   "name": "python",
   "nbconvert_exporter": "python",
   "pygments_lexer": "ipython3",
   "version": "3.11.4"
  }
 },
 "nbformat": 4,
 "nbformat_minor": 5
}
